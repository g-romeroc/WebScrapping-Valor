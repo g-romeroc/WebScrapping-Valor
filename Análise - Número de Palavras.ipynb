{
 "cells": [
  {
   "cell_type": "markdown",
   "metadata": {},
   "source": [
    "### Bibliotecas"
   ]
  },
  {
   "cell_type": "code",
   "execution_count": 6,
   "metadata": {},
   "outputs": [],
   "source": [
    "import time\n",
    "import pandas as pd\n",
    "import numpy as np\n",
    "from tqdm import tqdm #loop melhor \n",
    "import re\n",
    "import os\n",
    "\n",
    "\n",
    "import nltk\n",
    "from nltk.stem import WordNetLemmatizer, SnowballStemmer\n",
    "from nltk.stem.porter import *\n",
    "from nltk.stem import LancasterStemmer\n",
    "from nltk.corpus import stopwords\n",
    "\n",
    "\n",
    "\n",
    "# Gensim\n",
    "import gensim, spacy, logging, warnings\n",
    "import gensim.corpora as corpora\n",
    "from gensim.utils import simple_preprocess\n",
    "from gensim.models import CoherenceModel\n",
    "from gensim.models.ldamulticore import LdaMulticore\n",
    "from gensim.parsing.preprocessing import STOPWORDS\n",
    "\n",
    "\n",
    "# Wordcloud\n",
    "from wordcloud import WordCloud"
   ]
  },
  {
   "cell_type": "code",
   "execution_count": 7,
   "metadata": {},
   "outputs": [],
   "source": [
    "# Importando base de dados\n",
    "#%%time\n",
    "teste = pd.read_csv('Valor_Scrap.csv')"
   ]
  },
  {
   "cell_type": "code",
   "execution_count": 8,
   "metadata": {},
   "outputs": [
    {
     "data": {
      "text/html": [
       "<div>\n",
       "<style scoped>\n",
       "    .dataframe tbody tr th:only-of-type {\n",
       "        vertical-align: middle;\n",
       "    }\n",
       "\n",
       "    .dataframe tbody tr th {\n",
       "        vertical-align: top;\n",
       "    }\n",
       "\n",
       "    .dataframe thead th {\n",
       "        text-align: right;\n",
       "    }\n",
       "</style>\n",
       "<table border=\"1\" class=\"dataframe\">\n",
       "  <thead>\n",
       "    <tr style=\"text-align: right;\">\n",
       "      <th></th>\n",
       "      <th>Data</th>\n",
       "      <th>Título</th>\n",
       "      <th>Texto</th>\n",
       "      <th>Url</th>\n",
       "    </tr>\n",
       "  </thead>\n",
       "  <tbody>\n",
       "    <tr>\n",
       "      <th>0</th>\n",
       "      <td>2011-07-25 10:20:00</td>\n",
       "      <td>Focus: mercado aponta estabilidade em inflação...</td>\n",
       "      <td>SÃO PAULO - O mercado manteve a proj...</td>\n",
       "      <td>https://valor.globo.com/brasil/noticia/2011/07...</td>\n",
       "    </tr>\n",
       "    <tr>\n",
       "      <th>1</th>\n",
       "      <td>2011-07-25 10:30:00</td>\n",
       "      <td>Bolsas da Europa caem; dívida dos EUA e rating...</td>\n",
       "      <td>SÃO PAULO - Os investidores nas bols...</td>\n",
       "      <td>https://valor.globo.com/financas/noticia/2011/...</td>\n",
       "    </tr>\n",
       "    <tr>\n",
       "      <th>2</th>\n",
       "      <td>2011-07-25 11:00:00</td>\n",
       "      <td>Seis meses depois, Furnas só trocou de presidente</td>\n",
       "      <td>SÃO PAULO - Símbolo das mudanças que...</td>\n",
       "      <td>https://valor.globo.com/politica/noticia/2011/...</td>\n",
       "    </tr>\n",
       "    <tr>\n",
       "      <th>3</th>\n",
       "      <td>2011-07-25 11:10:00</td>\n",
       "      <td>Lupatech fecha contratos para plataformas de p...</td>\n",
       "      <td>SÃO PAULO - A Lupatech S.A, especial...</td>\n",
       "      <td>https://valor.globo.com/empresas/noticia/2011/...</td>\n",
       "    </tr>\n",
       "    <tr>\n",
       "      <th>4</th>\n",
       "      <td>2011-07-25 14:04:00</td>\n",
       "      <td>Homem que confessou massacre na Noruega ficará...</td>\n",
       "      <td>ÃO PAULO – O juiz Kim Heger determin...</td>\n",
       "      <td>https://valor.globo.com/mundo/noticia/2011/07/...</td>\n",
       "    </tr>\n",
       "    <tr>\n",
       "      <th>...</th>\n",
       "      <td>...</td>\n",
       "      <td>...</td>\n",
       "      <td>...</td>\n",
       "      <td>...</td>\n",
       "    </tr>\n",
       "    <tr>\n",
       "      <th>678611</th>\n",
       "      <td>2022-12-31 19:28:00</td>\n",
       "      <td>Cláudio Castro, que apoiou Bolsonaro, será o ú...</td>\n",
       "      <td>O governador do Rio, Cláudio Castro ...</td>\n",
       "      <td>https://valor.globo.com/politica/noticia/2022/...</td>\n",
       "    </tr>\n",
       "    <tr>\n",
       "      <th>678612</th>\n",
       "      <td>2022-12-31 19:37:00</td>\n",
       "      <td>Lula ainda não decidiu sobre desfile em carro ...</td>\n",
       "      <td>Futuro ministro da Comunicação Socia...</td>\n",
       "      <td>https://valor.globo.com/politica/noticia/2022/...</td>\n",
       "    </tr>\n",
       "    <tr>\n",
       "      <th>678613</th>\n",
       "      <td>2022-12-31 19:51:00</td>\n",
       "      <td>Lula conversa com autoridades da Ucrânia e Rús...</td>\n",
       "      <td>O presidente eleito Luiz Inácio Lula...</td>\n",
       "      <td>https://valor.globo.com/politica/noticia/2022/...</td>\n",
       "    </tr>\n",
       "    <tr>\n",
       "      <th>678614</th>\n",
       "      <td>2022-12-31 20:23:00</td>\n",
       "      <td>MEC publica portaria regulamentando cursos de ...</td>\n",
       "      <td>O Ministério da Educação (MEC) acaba...</td>\n",
       "      <td>https://valor.globo.com/empresas/noticia/2022/...</td>\n",
       "    </tr>\n",
       "    <tr>\n",
       "      <th>678615</th>\n",
       "      <td>2022-12-31 20:44:00</td>\n",
       "      <td>Em pronunciamento, Mourão não cita Bolsonaro e...</td>\n",
       "      <td>O vice-presidente, Hamilton Mourão (...</td>\n",
       "      <td>https://valor.globo.com/politica/noticia/2022/...</td>\n",
       "    </tr>\n",
       "  </tbody>\n",
       "</table>\n",
       "<p>678616 rows × 4 columns</p>\n",
       "</div>"
      ],
      "text/plain": [
       "                       Data  \\\n",
       "0       2011-07-25 10:20:00   \n",
       "1       2011-07-25 10:30:00   \n",
       "2       2011-07-25 11:00:00   \n",
       "3       2011-07-25 11:10:00   \n",
       "4       2011-07-25 14:04:00   \n",
       "...                     ...   \n",
       "678611  2022-12-31 19:28:00   \n",
       "678612  2022-12-31 19:37:00   \n",
       "678613  2022-12-31 19:51:00   \n",
       "678614  2022-12-31 20:23:00   \n",
       "678615  2022-12-31 20:44:00   \n",
       "\n",
       "                                                   Título  \\\n",
       "0       Focus: mercado aponta estabilidade em inflação...   \n",
       "1       Bolsas da Europa caem; dívida dos EUA e rating...   \n",
       "2       Seis meses depois, Furnas só trocou de presidente   \n",
       "3       Lupatech fecha contratos para plataformas de p...   \n",
       "4       Homem que confessou massacre na Noruega ficará...   \n",
       "...                                                   ...   \n",
       "678611  Cláudio Castro, que apoiou Bolsonaro, será o ú...   \n",
       "678612  Lula ainda não decidiu sobre desfile em carro ...   \n",
       "678613  Lula conversa com autoridades da Ucrânia e Rús...   \n",
       "678614  MEC publica portaria regulamentando cursos de ...   \n",
       "678615  Em pronunciamento, Mourão não cita Bolsonaro e...   \n",
       "\n",
       "                                                    Texto  \\\n",
       "0                 SÃO PAULO - O mercado manteve a proj...   \n",
       "1                 SÃO PAULO - Os investidores nas bols...   \n",
       "2                 SÃO PAULO - Símbolo das mudanças que...   \n",
       "3                 SÃO PAULO - A Lupatech S.A, especial...   \n",
       "4                 ÃO PAULO – O juiz Kim Heger determin...   \n",
       "...                                                   ...   \n",
       "678611            O governador do Rio, Cláudio Castro ...   \n",
       "678612            Futuro ministro da Comunicação Socia...   \n",
       "678613            O presidente eleito Luiz Inácio Lula...   \n",
       "678614            O Ministério da Educação (MEC) acaba...   \n",
       "678615            O vice-presidente, Hamilton Mourão (...   \n",
       "\n",
       "                                                      Url  \n",
       "0       https://valor.globo.com/brasil/noticia/2011/07...  \n",
       "1       https://valor.globo.com/financas/noticia/2011/...  \n",
       "2       https://valor.globo.com/politica/noticia/2011/...  \n",
       "3       https://valor.globo.com/empresas/noticia/2011/...  \n",
       "4       https://valor.globo.com/mundo/noticia/2011/07/...  \n",
       "...                                                   ...  \n",
       "678611  https://valor.globo.com/politica/noticia/2022/...  \n",
       "678612  https://valor.globo.com/politica/noticia/2022/...  \n",
       "678613  https://valor.globo.com/politica/noticia/2022/...  \n",
       "678614  https://valor.globo.com/empresas/noticia/2022/...  \n",
       "678615  https://valor.globo.com/politica/noticia/2022/...  \n",
       "\n",
       "[678616 rows x 4 columns]"
      ]
     },
     "execution_count": 8,
     "metadata": {},
     "output_type": "execute_result"
    }
   ],
   "source": [
    "teste"
   ]
  },
  {
   "cell_type": "markdown",
   "metadata": {},
   "source": [
    "##  Passo 1 - Encontrando o primeiro parágrafo de cada notícia"
   ]
  },
  {
   "cell_type": "code",
   "execution_count": 45,
   "metadata": {},
   "outputs": [],
   "source": [
    "# Tirando os espaços antes de começar a primeira palavra da notícia\n",
    "teste['Texto'] = teste['Texto'].str.replace(r'^\\s+', '', regex=True)"
   ]
  },
  {
   "cell_type": "code",
   "execution_count": 60,
   "metadata": {},
   "outputs": [
    {
     "name": "stdout",
     "output_type": "stream",
     "text": [
      "Wall time: 9.41 s\n"
     ]
    }
   ],
   "source": [
    "%%time\n",
    "## Obtendo o primeiro parágrafo (PP) das notícias\n",
    "# Função para obter o texto até o primeiro espaço duplo ou maior \n",
    "def obter_texto(texto):\n",
    "    padrao = r'\\s{2,}'  # expressão regular para encontrar espaço duplo ou maior\n",
    "    primeiro_espaco_duplo = re.search(padrao, texto)  # encontrar o primeiro espaço duplo ou maior\n",
    "    if primeiro_espaco_duplo:\n",
    "        return texto.split(primeiro_espaco_duplo.group(0))[0]  # obter o texto até o primeiro espaço duplo ou maior\n",
    "    else:\n",
    "        return texto\n",
    "\n",
    "teste['PP'] = teste['Texto'].apply(obter_texto) "
   ]
  },
  {
   "cell_type": "markdown",
   "metadata": {},
   "source": [
    "#### PP - Primeiro Parágrago   ;   Texto - Notícia completa"
   ]
  },
  {
   "cell_type": "code",
   "execution_count": 67,
   "metadata": {},
   "outputs": [
    {
     "data": {
      "text/html": [
       "<div>\n",
       "<style scoped>\n",
       "    .dataframe tbody tr th:only-of-type {\n",
       "        vertical-align: middle;\n",
       "    }\n",
       "\n",
       "    .dataframe tbody tr th {\n",
       "        vertical-align: top;\n",
       "    }\n",
       "\n",
       "    .dataframe thead th {\n",
       "        text-align: right;\n",
       "    }\n",
       "</style>\n",
       "<table border=\"1\" class=\"dataframe\">\n",
       "  <thead>\n",
       "    <tr style=\"text-align: right;\">\n",
       "      <th></th>\n",
       "      <th>Data</th>\n",
       "      <th>Título</th>\n",
       "      <th>Texto</th>\n",
       "      <th>Url</th>\n",
       "      <th>PP</th>\n",
       "    </tr>\n",
       "  </thead>\n",
       "  <tbody>\n",
       "    <tr>\n",
       "      <th>0</th>\n",
       "      <td>2011-07-25 10:20:00</td>\n",
       "      <td>Focus: mercado aponta estabilidade em inflação...</td>\n",
       "      <td>SÃO PAULO - O mercado manteve a projeção de in...</td>\n",
       "      <td>https://valor.globo.com/brasil/noticia/2011/07...</td>\n",
       "      <td>SÃO PAULO - O mercado manteve a projeção de in...</td>\n",
       "    </tr>\n",
       "    <tr>\n",
       "      <th>1</th>\n",
       "      <td>2011-07-25 10:30:00</td>\n",
       "      <td>Bolsas da Europa caem; dívida dos EUA e rating...</td>\n",
       "      <td>SÃO PAULO - Os investidores nas bolsas da Euro...</td>\n",
       "      <td>https://valor.globo.com/financas/noticia/2011/...</td>\n",
       "      <td>SÃO PAULO - Os investidores nas bolsas da Euro...</td>\n",
       "    </tr>\n",
       "    <tr>\n",
       "      <th>2</th>\n",
       "      <td>2011-07-25 11:00:00</td>\n",
       "      <td>Seis meses depois, Furnas só trocou de presidente</td>\n",
       "      <td>SÃO PAULO - Símbolo das mudanças que a preside...</td>\n",
       "      <td>https://valor.globo.com/politica/noticia/2011/...</td>\n",
       "      <td>SÃO PAULO - Símbolo das mudanças que a preside...</td>\n",
       "    </tr>\n",
       "    <tr>\n",
       "      <th>3</th>\n",
       "      <td>2011-07-25 11:10:00</td>\n",
       "      <td>Lupatech fecha contratos para plataformas de p...</td>\n",
       "      <td>SÃO PAULO - A Lupatech S.A, especializada em p...</td>\n",
       "      <td>https://valor.globo.com/empresas/noticia/2011/...</td>\n",
       "      <td>SÃO PAULO - A Lupatech S.A, especializada em p...</td>\n",
       "    </tr>\n",
       "    <tr>\n",
       "      <th>4</th>\n",
       "      <td>2011-07-25 14:04:00</td>\n",
       "      <td>Homem que confessou massacre na Noruega ficará...</td>\n",
       "      <td>ÃO PAULO – O juiz Kim Heger determinou que And...</td>\n",
       "      <td>https://valor.globo.com/mundo/noticia/2011/07/...</td>\n",
       "      <td>ÃO PAULO – O juiz Kim Heger determinou que And...</td>\n",
       "    </tr>\n",
       "  </tbody>\n",
       "</table>\n",
       "</div>"
      ],
      "text/plain": [
       "                  Data                                             Título  \\\n",
       "0  2011-07-25 10:20:00  Focus: mercado aponta estabilidade em inflação...   \n",
       "1  2011-07-25 10:30:00  Bolsas da Europa caem; dívida dos EUA e rating...   \n",
       "2  2011-07-25 11:00:00  Seis meses depois, Furnas só trocou de presidente   \n",
       "3  2011-07-25 11:10:00  Lupatech fecha contratos para plataformas de p...   \n",
       "4  2011-07-25 14:04:00  Homem que confessou massacre na Noruega ficará...   \n",
       "\n",
       "                                               Texto  \\\n",
       "0  SÃO PAULO - O mercado manteve a projeção de in...   \n",
       "1  SÃO PAULO - Os investidores nas bolsas da Euro...   \n",
       "2  SÃO PAULO - Símbolo das mudanças que a preside...   \n",
       "3  SÃO PAULO - A Lupatech S.A, especializada em p...   \n",
       "4  ÃO PAULO – O juiz Kim Heger determinou que And...   \n",
       "\n",
       "                                                 Url  \\\n",
       "0  https://valor.globo.com/brasil/noticia/2011/07...   \n",
       "1  https://valor.globo.com/financas/noticia/2011/...   \n",
       "2  https://valor.globo.com/politica/noticia/2011/...   \n",
       "3  https://valor.globo.com/empresas/noticia/2011/...   \n",
       "4  https://valor.globo.com/mundo/noticia/2011/07/...   \n",
       "\n",
       "                                                  PP  \n",
       "0  SÃO PAULO - O mercado manteve a projeção de in...  \n",
       "1  SÃO PAULO - Os investidores nas bolsas da Euro...  \n",
       "2  SÃO PAULO - Símbolo das mudanças que a preside...  \n",
       "3  SÃO PAULO - A Lupatech S.A, especializada em p...  \n",
       "4  ÃO PAULO – O juiz Kim Heger determinou que And...  "
      ]
     },
     "execution_count": 67,
     "metadata": {},
     "output_type": "execute_result"
    }
   ],
   "source": [
    "teste.head()"
   ]
  },
  {
   "cell_type": "markdown",
   "metadata": {},
   "source": [
    "### Exemplo:"
   ]
  },
  {
   "cell_type": "code",
   "execution_count": 72,
   "metadata": {},
   "outputs": [
    {
     "name": "stdout",
     "output_type": "stream",
     "text": [
      "https://valor.globo.com/coluna/ministras-passam-no-teste-do-primeiro-mes.ghtml\n",
      "Uma atravessou o momento mais agudo da crise do PR sem danos à base governista. A outra impôs-se prometendo só o que pode cumprir. Faz pouco mais de um mês que as ministras Ideli Salvatti (Relações Institucionais) e Gleisi Hoffman (Casa Civil) começaram a trabalhar juntas no triunvirato de poder que passaram a compor com a presidente Dilma Rousseff. Impuseram a uma base aliada até então incrédula a sua capacidade de gestão do núcleo de governo.      Ideli voltará a ser testada com o fim do recesso pela pressão em torno das emendas parlamentares e cargos, além das armadilhas fiscais da pauta legislativa. Para dar conta dessa interlocução, além dos despachos diários com a presidente, Ideli fortaleceu laços com o meio político com gestos singelos como a consulta matinal à lista de aniversariantes de ministros, congressistas, governadores e prefeitos.     Os políticos que se reuniram com Gleisi nos últimos dias elogiam sua objetividade, interesse nas demandas em geral e sinceridade ao falar das que terão dificuldades em prosperar no governo - característica também notada pelos interlocutores da presidente.      Página A6     \n"
     ]
    }
   ],
   "source": [
    "### Exemplo ###\n",
    "print(teste.iloc[90,3])\n",
    "print(teste.iloc[90,2])"
   ]
  },
  {
   "cell_type": "code",
   "execution_count": 73,
   "metadata": {},
   "outputs": [
    {
     "name": "stdout",
     "output_type": "stream",
     "text": [
      "Uma atravessou o momento mais agudo da crise do PR sem danos à base governista. A outra impôs-se prometendo só o que pode cumprir. Faz pouco mais de um mês que as ministras Ideli Salvatti (Relações Institucionais) e Gleisi Hoffman (Casa Civil) começaram a trabalhar juntas no triunvirato de poder que passaram a compor com a presidente Dilma Rousseff. Impuseram a uma base aliada até então incrédula a sua capacidade de gestão do núcleo de governo.\n"
     ]
    }
   ],
   "source": [
    "### Exemplo - Primeiro Parágrafo ### \n",
    "print(teste.iloc[90,4])"
   ]
  },
  {
   "cell_type": "markdown",
   "metadata": {},
   "source": [
    "## Passo 2 - Realizando as modificações em toda a base (Título, Notícia e Primeiro Parágrafo) \n",
    "#### 1) Tirar pontuações\n",
    "#### 2) Colocar tudo em letra minúscula \n",
    "#### 3) Retirar espaços duplos que vão aparecer após a retirada de pontuações\n",
    "\n"
   ]
  },
  {
   "cell_type": "code",
   "execution_count": 74,
   "metadata": {},
   "outputs": [],
   "source": [
    "base = teste"
   ]
  },
  {
   "cell_type": "code",
   "execution_count": 78,
   "metadata": {},
   "outputs": [
    {
     "name": "stderr",
     "output_type": "stream",
     "text": [
      "100%|████████████████████████████████████████████████████████████████████████████████████| 3/3 [04:45<00:00, 95.07s/it]"
     ]
    },
    {
     "name": "stdout",
     "output_type": "stream",
     "text": [
      "Wall time: 4min 45s\n"
     ]
    },
    {
     "name": "stderr",
     "output_type": "stream",
     "text": [
      "\n"
     ]
    }
   ],
   "source": [
    "%%time \n",
    "\n",
    "# Remover pontuações\n",
    "def remove_punct(text):\n",
    "    \"\"\"Remove pontuações do texto\"\"\"\n",
    "    return re.sub(r'[^\\w\\s]', '', text)\n",
    "\n",
    "colunas = ['Título', 'Texto', 'PP']\n",
    "for j in tqdm(colunas):\n",
    "    ## Colocando os textos em formato de string \n",
    "    base[f'{j}'] = base[f'{j}'].astype(str)\n",
    "    \n",
    "    ### Tirando as pontuações\n",
    "    ## Deleto as pontuações e colocamos '' no lugar - apagando as pontuações e criando uma nova coluna com o texto tratado\n",
    "    base[f'{j}'] = base[f'{j}'].map(lambda x: re.sub('[,\\.!?-]', ' ', x))\n",
    "    \n",
    "    # Colocando o texto em letras minúsculas\n",
    "    base[f'{j}'] = base[f'{j}'].map(lambda x: x.lower())\n",
    "    \n",
    "    # Remover pontuações + uma vez\n",
    "    base[f'{j}'] = base[f'{j}'].apply(remove_punct)\n",
    "    \n",
    "    # Tirando os espaços\n",
    "    base[f'{j}'] = base[f'{j}'].replace(r'\\s+', ' ', regex=True)\n",
    "\n"
   ]
  },
  {
   "cell_type": "markdown",
   "metadata": {},
   "source": [
    "\n",
    "## Passo 3 - Calcular média de palavras"
   ]
  },
  {
   "cell_type": "code",
   "execution_count": 81,
   "metadata": {},
   "outputs": [],
   "source": [
    "import matplotlib.pyplot as plt"
   ]
  },
  {
   "cell_type": "code",
   "execution_count": 86,
   "metadata": {},
   "outputs": [
    {
     "name": "stdout",
     "output_type": "stream",
     "text": [
      "Wall time: 29.9 s\n"
     ]
    }
   ],
   "source": [
    "%%time\n",
    "\n",
    "# criar uma nova coluna contendo o número de palavras em cada linha\n",
    "base['num_palavras_título'] = base['Título'].apply(lambda x: len(x.split()))\n",
    "\n",
    "base['num_palavras_texto'] = base['Texto'].apply(lambda x: len(x.split()))\n",
    "\n",
    "base['num_palavras_pp'] = base['PP'].apply(lambda x: len(x.split()))"
   ]
  },
  {
   "cell_type": "code",
   "execution_count": 87,
   "metadata": {},
   "outputs": [
    {
     "data": {
      "text/html": [
       "<div>\n",
       "<style scoped>\n",
       "    .dataframe tbody tr th:only-of-type {\n",
       "        vertical-align: middle;\n",
       "    }\n",
       "\n",
       "    .dataframe tbody tr th {\n",
       "        vertical-align: top;\n",
       "    }\n",
       "\n",
       "    .dataframe thead th {\n",
       "        text-align: right;\n",
       "    }\n",
       "</style>\n",
       "<table border=\"1\" class=\"dataframe\">\n",
       "  <thead>\n",
       "    <tr style=\"text-align: right;\">\n",
       "      <th></th>\n",
       "      <th>Data</th>\n",
       "      <th>Título</th>\n",
       "      <th>Texto</th>\n",
       "      <th>PP</th>\n",
       "      <th>num_palavras_título</th>\n",
       "      <th>num_palavras_texto</th>\n",
       "      <th>num_palavras_pp</th>\n",
       "    </tr>\n",
       "  </thead>\n",
       "  <tbody>\n",
       "    <tr>\n",
       "      <th>0</th>\n",
       "      <td>2011-07-25 10:20:00</td>\n",
       "      <td>focus mercado aponta estabilidade em inflação ...</td>\n",
       "      <td>são paulo o mercado manteve a projeção de infl...</td>\n",
       "      <td>são paulo o mercado manteve a projeção de infl...</td>\n",
       "      <td>8</td>\n",
       "      <td>287</td>\n",
       "      <td>37</td>\n",
       "    </tr>\n",
       "    <tr>\n",
       "      <th>1</th>\n",
       "      <td>2011-07-25 10:30:00</td>\n",
       "      <td>bolsas da europa caem dívida dos eua e rating ...</td>\n",
       "      <td>são paulo os investidores nas bolsas da europa...</td>\n",
       "      <td>são paulo os investidores nas bolsas da europa...</td>\n",
       "      <td>12</td>\n",
       "      <td>189</td>\n",
       "      <td>183</td>\n",
       "    </tr>\n",
       "    <tr>\n",
       "      <th>2</th>\n",
       "      <td>2011-07-25 11:00:00</td>\n",
       "      <td>seis meses depois furnas só trocou de presidente</td>\n",
       "      <td>são paulo símbolo das mudanças que a president...</td>\n",
       "      <td>são paulo símbolo das mudanças que a president...</td>\n",
       "      <td>8</td>\n",
       "      <td>1073</td>\n",
       "      <td>184</td>\n",
       "    </tr>\n",
       "    <tr>\n",
       "      <th>3</th>\n",
       "      <td>2011-07-25 11:10:00</td>\n",
       "      <td>lupatech fecha contratos para plataformas de p...</td>\n",
       "      <td>são paulo a lupatech s a especializada em prod...</td>\n",
       "      <td>são paulo a lupatech s a especializada em prod...</td>\n",
       "      <td>11</td>\n",
       "      <td>162</td>\n",
       "      <td>43</td>\n",
       "    </tr>\n",
       "    <tr>\n",
       "      <th>4</th>\n",
       "      <td>2011-07-25 14:04:00</td>\n",
       "      <td>homem que confessou massacre na noruega ficará...</td>\n",
       "      <td>ão paulo o juiz kim heger determinou que ander...</td>\n",
       "      <td>ão paulo o juiz kim heger determinou que ander...</td>\n",
       "      <td>11</td>\n",
       "      <td>143</td>\n",
       "      <td>41</td>\n",
       "    </tr>\n",
       "  </tbody>\n",
       "</table>\n",
       "</div>"
      ],
      "text/plain": [
       "                  Data                                             Título  \\\n",
       "0  2011-07-25 10:20:00  focus mercado aponta estabilidade em inflação ...   \n",
       "1  2011-07-25 10:30:00  bolsas da europa caem dívida dos eua e rating ...   \n",
       "2  2011-07-25 11:00:00   seis meses depois furnas só trocou de presidente   \n",
       "3  2011-07-25 11:10:00  lupatech fecha contratos para plataformas de p...   \n",
       "4  2011-07-25 14:04:00  homem que confessou massacre na noruega ficará...   \n",
       "\n",
       "                                               Texto  \\\n",
       "0  são paulo o mercado manteve a projeção de infl...   \n",
       "1  são paulo os investidores nas bolsas da europa...   \n",
       "2  são paulo símbolo das mudanças que a president...   \n",
       "3  são paulo a lupatech s a especializada em prod...   \n",
       "4  ão paulo o juiz kim heger determinou que ander...   \n",
       "\n",
       "                                                  PP  num_palavras_título  \\\n",
       "0  são paulo o mercado manteve a projeção de infl...                    8   \n",
       "1  são paulo os investidores nas bolsas da europa...                   12   \n",
       "2  são paulo símbolo das mudanças que a president...                    8   \n",
       "3  são paulo a lupatech s a especializada em prod...                   11   \n",
       "4  ão paulo o juiz kim heger determinou que ander...                   11   \n",
       "\n",
       "   num_palavras_texto  num_palavras_pp  \n",
       "0                 287               37  \n",
       "1                 189              183  \n",
       "2                1073              184  \n",
       "3                 162               43  \n",
       "4                 143               41  "
      ]
     },
     "execution_count": 87,
     "metadata": {},
     "output_type": "execute_result"
    }
   ],
   "source": [
    "base.head()"
   ]
  },
  {
   "cell_type": "code",
   "execution_count": 122,
   "metadata": {},
   "outputs": [
    {
     "data": {
      "image/png": "[encoded data removed]",
      "text/plain": [
       "<Figure size 432x288 with 1 Axes>"
      ]
     },
     "metadata": {
      "needs_background": "light"
     },
     "output_type": "display_data"
    },
    {
     "data": {
      "image/png": "[encoded data removed]",
      "text/plain": [
       "<Figure size 432x288 with 1 Axes>"
      ]
     },
     "metadata": {
      "needs_background": "light"
     },
     "output_type": "display_data"
    },
    {
     "data": {
      "image/png": "[encoded data removed]",
      "text/plain": [
       "<Figure size 432x288 with 1 Axes>"
      ]
     },
     "metadata": {
      "needs_background": "light"
     },
     "output_type": "display_data"
    }
   ],
   "source": [
    "colunas = ['num_palavras_título', 'num_palavras_pp', 'num_palavras_texto']\n",
    "for j in colunas:\n",
    "\n",
    "    plt.plot(base[f'{j}'])\n",
    "    mean = round(base[f'{j}'].mean(),2)\n",
    "    med = base[f'{j}'].median()\n",
    "    max = base[f'{j}'].max()\n",
    "    # adicionar a média e a mediana ao gráfico\n",
    "    plt.axhline(mean, color='red', linestyle='dashed', linewidth=2, label='Média')\n",
    "    plt.axhline(med, color='black', linestyle='dashed', linewidth=2, label='Mediana')\n",
    "    plt.title(f'{j}')\n",
    "    #plt.text(0.5, base[f'{j}'].mean(), ha='center', va='center', fontsize=12, color='white')\n",
    "    plt.annotate('Média = {}\\nMediana = {}'.format(mean,med), xy=(0.05, mean), xytext=(-40, 0),  textcoords=\"offset points\", ha=\"right\", va=\"center\")\n",
    "    plt.legend()\n",
    "    plt.show()"
   ]
  },
  {
   "cell_type": "markdown",
   "metadata": {},
   "source": [
    "Média de palavras para título, primeiro parágrafo(PP) e notícia \"completa\" - com **STOPWORDS**"
   ]
  },
  {
   "cell_type": "markdown",
   "metadata": {},
   "source": [
    "## Passo 4 - Retirar Números e StopWords"
   ]
  },
  {
   "cell_type": "markdown",
   "metadata": {},
   "source": [
    "### Números"
   ]
  },
  {
   "cell_type": "code",
   "execution_count": 136,
   "metadata": {},
   "outputs": [
    {
     "name": "stderr",
     "output_type": "stream",
     "text": [
      "100%|████████████████████████████████████████████████████████████████████████████████████| 3/3 [00:34<00:00, 11.48s/it]\n"
     ]
    }
   ],
   "source": [
    "### Retirando Números + Manter SP+RJ ###\n",
    "\n",
    "colunas = ['Título', 'Texto', 'PP']\n",
    "for j in tqdm(colunas): \n",
    "    base[f'{j}'] = base[f'{j}'].replace(to_replace=r'\\d', value='', regex=True)\n",
    "    base[f'{j}'] = base[f'{j}'].str.replace('são paulo', 'são_paulo')\n",
    "    base[f'{j}'] = base[f'{j}'].str.replace('rio de janeiro', 'rio_de_janeiro')"
   ]
  },
  {
   "cell_type": "markdown",
   "metadata": {},
   "source": [
    "### StopWords - Parte 1"
   ]
  },
  {
   "cell_type": "code",
   "execution_count": 189,
   "metadata": {},
   "outputs": [
    {
     "name": "stderr",
     "output_type": "stream",
     "text": [
      "[nltk_data] Downloading package stopwords to\n",
      "[nltk_data]     C:\\Users\\gcard\\AppData\\Roaming\\nltk_data...\n",
      "[nltk_data]   Package stopwords is already up-to-date!\n"
     ]
    }
   ],
   "source": [
    "nltk.download('stopwords')\n",
    "stop_words = stopwords.words('portuguese')\n",
    "stop_words.extend(['reuters','valor', 'foto', 'foto:', 'reprodução'])\n",
    "\n",
    "\n",
    "# Parte 1 - Retirando mais algumas palavras\n",
    "stop_words.extend(['de','a','o','que','e','do','da','em','um','para','e','com','nao','uma','os','no','se','na','por','mais','as','dos','como','mas','foi',\n",
    "                   'ao','ele','das','tem','a','seu','sua','ou','ser','quando','muito','ha','nos','ja','esta','eu','tambem','so','pelo','pela','ate','isso',\n",
    "                   'ela','entre','era','depois','sem','mesmo','aos','ter','seus','quem','nas','me','esse','eles','estao','voce','tinha','foram','essa','num',\n",
    "                   'nem','suas','meu','as','minha','tem','numa','pelos','elas','havia','seja','qual','sera','nos','tenho','lhe','deles','essas','esses','pelas',\n",
    "                   'este','fosse','dele','tu','te','voces','vos','lhes','meus','minhas','teu','tua','teus','tuas','nosso','nossa','nossos','nossas','dela','delas',\n",
    "                   'esta','estes','estas','aquele','aquela','aqueles','aquelas','isto','aquilo','estou','esta','estamos','estao','estive','esteve','estivemos',\n",
    "                   'estiveram','estava','estavamos','estavam','estivera','estiveramos','esteja','estejamos','estejam','estivesse','estivessemos','estivessem',\n",
    "                   'estiver','estivermos','estiverem','hei','ha','havemos','hao','houve','houvemos','houveram','houvera','houveramos','haja','hajamos','hajam',\n",
    "                   'houvesse','houvessemos','houvessem','houver','houvermos','houverem','houverei','houvera','houveremos','houverao','houveria','houveriamos',\n",
    "                   'houveriam','sou','somos','era','eramos','eram','fui','foi','fomos','foram','fora','foramos','seja','sejamos','sejam','fosse','fossemos',\n",
    "                   'fossem','for','formos','forem','serei','sera','seremos','serao','seria','seriamos','seriam','tenho','tem','temos','tem','tinha','tinhamos',\n",
    "                   'tinham','tive','teve','tivemos','tiveram','tivera','tiveramos','tenha','tenhamos','tenham','tivesse','tivessemos','tivessem','tiver','tivermos',\n",
    "                   'tiverem','terei','tera','teremos','terao','teria','teriamos','teriam'])\n",
    "\n",
    "# Parte 2 - Parte anterior com acento\n",
    "stop_words.extend(['de',  'a',  'o',  'que',  'e',  'do',  'da',  'em',  'um',  'para',  'é',  'com',  'não',  'uma',  'os',  'no',  'se',  'na',  'por',  'mais',  \n",
    "                    'as',  'dos',  'como',  'mas',  'foi',  'ao',  'ele',  'das',  'tem',  'à',  'seu',  'sua',  'ou',  'ser',  'quando',  'muito',  'há',  'nos',  \n",
    "                    'já',  'está',  'eu',  'também',  'só',  'pelo',  'pela',  'até',  'isso',  'ela',  'entre',  'era',  'depois',  'sem',  'mesmo',  'aos',  'ter', \n",
    "                    'seus',  'quem',  'nas',  'me',  'esse',  'eles',  'estão',  'você',  'tinha',  'foram',  'essa',  'num',  'nem',  'suas',  'meu',  'às',  'minha',\n",
    "                    'têm',  'numa',  'pelos',  'elas',  'havia',  'seja',  'qual',  'será',  'nós',  'tenho',  'lhe',  'deles',  'essas',  'esses',  'pelas',  'este',  \n",
    "                    'fosse',  'dele',  'tu',  'te',  'vocês',  'vos',  'lhes',  'meus',  'minhas',  'teu',  'tua',  'teus',  'tuas',  'nosso',  'nossa',  'nossos',  \n",
    "                    'nossas',  'dela',  'delas',  'esta',  'estes',  'estas',  'aquele',  'aquela',  'aqueles',  'aquelas',  'isto',  'aquilo',  'estou',  'está',  \n",
    "                    'estamos',  'estão',  'estive',  'esteve',  'estivemos',  'estiveram',  'estava',  'estávamos',  'estavam',  'estivera',  'estivéramos',  'esteja',  \n",
    "                    'estejamos',  'estejam',  'estivesse',  'estivéssemos',  'estivessem',  'estiver',  'estivermos',  'estiverem',  'hei',  'há',  'havemos',  'hão', \n",
    "                    'houve',  'houvemos',  'houveram',  'houvera',  'houvéramos',  'haja',  'hajamos',  'hajam',  'houvesse',  'houvéssemos',  'houvessem',  'houver',  \n",
    "                    'houvermos',  'houverem',  'houverei',  'houverá',  'houveremos',  'houverão',  'houveria',  'houveríamos',  'houveriam',  'sou',  'somos',  'são', \n",
    "                    'era',  'éramos',  'eram',  'fui',  'foi',  'fomos',  'foram',  'fora',  'fôramos',  'seja',  'sejamos',  'sejam',  'fosse',  'fôssemos',  'fossem', \n",
    "                    'for',  'formos',  'forem',  'serei',  'será',  'seremos',  'serão',  'seria',  'seríamos',  'seriam',  'tenho',  'tem',  'temos',  'tém',  'tinha',  \n",
    "                    'tínhamos',  'tinham',  'tive',  'teve',  'tivemos',  'tiveram',  'tivera',  'tivéramos',  'tenha',  'tenhamos',  'tenham',  'tivesse', \n",
    "                    'tivéssemos',  'tivessem',  'tiver',  'tivermos',  'tiverem',  'terei',  'terá',  'teremos',  'terão',  'teria',  'teríamos',  'teriam'])\n",
    "\n",
    "# Parte 2 - Adicionando mais um conjunto de palavras, porém essas palavras possuem acentos.\n",
    "\n",
    "const_words = [ 'a', 'à', 'adeus', 'agora', 'aí', 'ainda', 'além', 'algo', 'alguém', 'algum', 'alguma', 'algumas', 'alguns', 'ali', 'ampla', 'amplas', 'amplo', \n",
    "               'amplos', 'ano', 'anos', 'ante', 'antes', 'ao', 'aos', 'apenas', 'apoio', 'após', 'aquela', 'aquelas', 'aquele', 'aqueles', 'aqui', 'aquilo', \n",
    "               'área', 'as', 'às', 'assim', 'até', 'atrás', 'através', 'baixo', 'bastante', 'bem', 'boa', 'boas', 'bom', 'bons', 'breve', 'cá', 'cada', 'catorze',\n",
    "               'cedo', 'cento', 'certamente', 'certeza', 'cima', 'cinco', 'coisa', 'coisas', 'com', 'como', 'conselho', 'contra', 'contudo', 'custa', 'da', 'dá',\n",
    "               'dão', 'daquela', 'daquelas', 'daquele', 'daqueles', 'dar', 'das', 'de', 'debaixo', 'dela', 'delas', 'dele', 'deles', 'demais', 'dentro', 'depois', \n",
    "               'desde', 'dessa', 'dessas', 'desse', 'desses', 'desta', 'destas', 'deste', 'destes', 'deve', 'devem', 'devendo', 'dever', 'deverá', 'deverão', 'deveria', \n",
    "               'deveriam', 'devia', 'deviam', 'dez', 'dezanove', 'dezasseis', 'dezassete', 'dezoito', 'dia', 'diante', 'disse', 'disso', 'disto', 'dito', 'diz', 'dizem', \n",
    "               'dizer', 'do', 'dois', 'dos', 'doze', 'duas', 'dúvida', 'e', 'é', 'ela', 'elas', 'ele', 'eles', 'em', 'embora', 'enquanto', 'entre', 'era', 'eram', 'éramos',\n",
    "               'és', 'essa', 'essas', 'esse', 'esses', 'esta', 'está', 'estamos', 'estão', 'estar', 'estas', 'estás', 'estava', 'estavam', 'estávamos', 'este', 'esteja', \n",
    "               'estejam', 'estejamos', 'estes', 'esteve', 'estive', 'estivemos', 'estiver', 'estivera', 'estiveram', 'estivéramos', 'estiverem', 'estivermos', 'estivesse', \n",
    "               'estivessem', 'estivéssemos', 'estiveste', 'estivestes', 'estou', 'etc', 'eu', 'exemplo', 'faço', 'falta', 'favor', 'faz', 'fazeis', 'fazem', 'fazemos',\n",
    "               'fazendo', 'fazer', 'fazes', 'feita', 'feitas', 'feito', 'feitos', 'fez', 'fim', 'final', 'foi', 'fomos', 'for', 'fora', 'foram', 'fôramos', 'forem', \n",
    "               'forma', 'formos', 'fosse', 'fossem', 'fôssemos', 'foste', 'fostes', 'fui', 'geral', 'grande', 'grandes', 'grupo', 'há', 'haja', 'hajam', 'hajamos', 'hão',\n",
    "               'havemos', 'havia', 'hei', 'hoje', 'hora', 'horas', 'houve', 'houvemos', 'houver', 'houvera', 'houverá', 'houveram', 'houvéramos', 'houverão', 'houverei', \n",
    "               'houverem', 'houveremos', 'houveria', 'houveriam', 'houveríamos', 'houvermos', 'houvesse', 'houvessem', 'houvéssemos', 'isso', 'isto', 'já', 'la', 'lá', \n",
    "               'lado', 'lhe', 'lhes', 'lo', 'local', 'logo', 'longe', 'lugar', 'maior', 'maioria', 'mais', 'mal', 'mas', 'máximo', 'me', 'meio', 'menor', 'menos', 'mês',\n",
    "               'meses', 'mesma', 'mesmas', 'mesmo', 'mesmos', 'meu', 'meus', 'mil', 'minha', 'minhas', 'momento', 'muita', 'muitas', 'muito', 'muitos', 'na', 'nada', 'não', \n",
    "               'naquela', 'naquelas', 'naquele', 'naqueles', 'nas', 'nem', 'nenhum', 'nenhuma', 'nessa', 'nessas', 'nesse', 'nesses', 'nesta', 'nestas', 'neste', 'nestes', \n",
    "               'ninguém', 'nível', 'no', 'noite', 'nome', 'nos', 'nós', 'nossa', 'nossas', 'nosso', 'nossos', 'nova', 'novas', 'nove', 'novo', 'novos', 'num', 'numa', \n",
    "               'número', 'nunca', 'o', 'obra', 'obrigada', 'obrigado', 'oitava', 'oitavo', 'oito', 'onde', 'ontem', 'onze', 'os', 'ou', 'outra', 'outras', 'outro', 'outros', \n",
    "               'para', 'parece', 'parte', 'partir', 'paucas', 'pela', 'pelas', 'pelo', 'pelos', 'pequena', 'pequenas', 'pequeno', 'pequenos', 'per', 'perante', 'perto', \n",
    "               'pode', 'pude', 'pôde', 'podem', 'podendo', 'poder', 'poderia', 'poderiam', 'podia', 'podiam', 'põe', 'põem', 'pois', 'ponto', 'pontos', 'por', 'porém',\n",
    "               'porque', 'porquê', 'posição', 'possível', 'possivelmente', 'posso', 'pouca', 'poucas', 'pouco', 'poucos', 'primeira', 'primeiras', 'primeiro', 'primeiros',\n",
    "               'própria', 'próprias', 'próprio', 'próprios', 'próxima', 'próximas', 'próximo', 'próximos', 'pude', 'puderam', 'quais', 'quáis', 'qual', 'quando', 'quanto', \n",
    "               'quantos', 'quarta', 'quarto', 'quatro', 'que', 'quê', 'quem', 'quer', 'quereis', 'querem', 'queremas', 'queres', 'quero', 'questão', 'quinta', 'quinto',\n",
    "               'quinze', 'relação', 'sabe', 'sabem', 'se', 'segunda', 'segundo', 'sei', 'seis', 'seja', 'sejam', 'sejamos', 'sem', 'sempre', 'sendo', 'ser', 'será', \n",
    "               'serão', 'serei', 'seremos', 'seria', 'seriam', 'seríamos', 'sete', 'sétima', 'sétimo', 'seu', 'seus', 'sexta', 'sexto', 'si', 'sido', 'sim', 'sistema', \n",
    "               'só', 'sob', 'sobre', 'sois', 'somos', 'sou', 'sua', 'suas', 'tal', 'talvez', 'também', 'tampouco', 'tanta', 'tantas', 'tanto', 'tão', 'tarde', 'te', 'tem',\n",
    "               'tém', 'têm', ' só ', 'temos', 'tendes', 'tendo', 'tenha', 'tenham', 'tenhamos', 'tenho', 'tens', 'ter', 'terá', 'terão', 'terceira', 'terceiro', 'terei', 'teremos',\n",
    "               'teria', 'teriam', 'teríamos', 'teu', 'teus', 'teve', 'ti', 'tido', 'tinha', 'tinham', 'tínhamos', 'tive', 'tivemos', 'tiver', 'tivera', 'tiveram', 'tivéramos', \n",
    "               'tiverem', 'tivermos', 'tivesse', 'tivessem', 'tivéssemos', 'tiveste', 'tivestes', 'toda', 'todas', 'todavia', 'todo', 'todos', 'trabalho', 'três', 'treze', \n",
    "               'tu', 'tua', 'tuas', 'tudo', 'última', 'últimas', 'último', 'últimos', 'um', 'uma', 'umas', 'uns', 'vai', 'vais', 'vão', 'vários', 'vem', 'vêm', 'vendo',\n",
    "               'vens', 'ver', 'vez', 'vezes', 'viagem', 'vindo', 'vinte', 'vir', 'você', 'vocês', 'vos', 'vós', 'vossa', 'vossas', 'vosso', 'vossos', 'zero']\n",
    "stop_words.extend(const_words)\n",
    "\n",
    "# Parte 3 - Algumas outras\n",
    "stop_words.extend(['durante', 'pessoa', 'pergunte', 'perguntei', 'perguntando', 'pergunta','caso', 'sentido', 'deu', 'somente'])\n"
   ]
  },
  {
   "cell_type": "code",
   "execution_count": 190,
   "metadata": {},
   "outputs": [],
   "source": [
    "# função para remover palavras da lista\n",
    "def remove_words(text, remove_list):\n",
    "    return ' '.join([word for word in text.split() if word not in remove_list])"
   ]
  },
  {
   "cell_type": "code",
   "execution_count": 191,
   "metadata": {},
   "outputs": [
    {
     "name": "stderr",
     "output_type": "stream",
     "text": [
      "100%|███████████████████████████████████████████████████████████████████████████████████| 3/3 [43:59<00:00, 879.90s/it]"
     ]
    },
    {
     "name": "stdout",
     "output_type": "stream",
     "text": [
      "Wall time: 43min 59s\n"
     ]
    },
    {
     "name": "stderr",
     "output_type": "stream",
     "text": [
      "\n"
     ]
    }
   ],
   "source": [
    "%%time\n",
    "\n",
    "# Retirando as stopwords de cada uma das colunas\n",
    "colunas = ['Título', 'Texto', 'PP']\n",
    "for j in tqdm(colunas): \n",
    "    base[f'{j}'] = base[f'{j}'].apply(lambda x: remove_words(x, stop_words))\n"
   ]
  },
  {
   "cell_type": "markdown",
   "metadata": {},
   "source": [
    "### StopWords - Parte 2\n",
    "\n",
    "Foi obersado que **143** notícias estão em inglês.\n",
    "\n",
    "*base[base['Texto'].str.startswith('the')]*\n",
    "\n",
    "Vamos utilizar uma pequena lista de stopwords em inglês, já que 143 é um número baixo.\n",
    "\n",
    "Fonte: Está nos comentários de https://gist.github.com/sebleier/554280"
   ]
  },
  {
   "cell_type": "code",
   "execution_count": 321,
   "metadata": {},
   "outputs": [
    {
     "name": "stderr",
     "output_type": "stream",
     "text": [
      "100%|███████████████████████████████████████████████████████████████████████████████████| 3/3 [06:05<00:00, 121.68s/it]"
     ]
    },
    {
     "name": "stdout",
     "output_type": "stream",
     "text": [
      "Wall time: 6min 5s\n"
     ]
    },
    {
     "name": "stderr",
     "output_type": "stream",
     "text": [
      "\n"
     ]
    }
   ],
   "source": [
    "%%time\n",
    "\n",
    "## Outro conjunto de stopwords em pt-br\n",
    "stop_words2 = ['apesar', 'vamos']\n",
    "\n",
    "\n",
    "# StopWords em Inglês\n",
    "stop_words2.extend([\"me\", \"my\", \"myself\", \"we\", \"our\", \"ours\", \"ourselves\", \"you\", \"your\", \n",
    "                    \"yours\", \"yourself\", \"yourselves\", \"he\", \"him\", \"his\", \"himself\", \"she\", \"her\", \n",
    "                    \"hers\", \"herself\", \"it\", \"its\", \"itself\", \"they\", \"them\", \"their\", \"theirs\", \n",
    "                    \"themselves\", \"what\", \"which\", \"who\", \"whom\", \"this\", \"that\", \"these\", \"those\", \n",
    "                    \"am\", \"is\", \"are\", \"was\", \"were\", \"be\", \"been\", \"being\", \"have\", \"has\", \"had\", \n",
    "                    \"having\", \"do\", \"does\", \"did\", \"doing\", \"an\", \"the\", \"and\", \"but\", \"if\", \n",
    "                    \"or\", \"because\", \"as\", \"until\", \"while\", \"of\", \"at\", \"by\", \"for\", \"with\", \n",
    "                    \"about\", \"against\", \"between\", \"into\", \"through\", \"during\", \"before\", \"after\", \n",
    "                    \"above\", \"below\", \"to\", \"from\", \"up\", \"down\", \"in\", \"out\", \"on\", \"off\", \"over\", \n",
    "                    \"under\", \"again\", \"further\", \"then\", \"once\", \"here\", \"there\", \"when\", \"where\",\n",
    "                    \"why\", \"how\", \"all\", \"any\", \"both\", \"each\", \"few\", \"more\", \"most\", \"other\", \n",
    "                    \"some\", \"such\", \"no\", \"nor\", \"not\", \"only\", \"own\", \"same\", \"so\", \"than\", \"too\", \n",
    "                    \"very\", \"can\", \"will\", \"just\", \"don\", \"should\", \"now\"])\n",
    "\n",
    "\n",
    "# Retirando as stopwords2 de cada uma das colunas\n",
    "colunas = ['Título', 'Texto', 'PP']\n",
    "for j in tqdm(colunas): \n",
    "    base[f'{j}'] = base[f'{j}'].apply(lambda x: remove_words(x, stop_words2))\n",
    "\n",
    "\n"
   ]
  },
  {
   "cell_type": "code",
   "execution_count": 340,
   "metadata": {},
   "outputs": [
    {
     "name": "stderr",
     "output_type": "stream",
     "text": [
      "100%|████████████████████████████████████████████████████████████████████████████████████| 3/3 [01:27<00:00, 29.21s/it]\n"
     ]
    }
   ],
   "source": [
    "# Tirando os espaços duplos\n",
    "\n",
    "colunas = ['Título', 'Texto', 'PP']\n",
    "for j in tqdm(colunas):      \n",
    "    base[f'{j}'] = base[f'{j}'].replace(r'\\s+', ' ', regex=True)"
   ]
  },
  {
   "cell_type": "markdown",
   "metadata": {},
   "source": [
    "### Remover palavras com 1 letra e outras pontuações"
   ]
  },
  {
   "cell_type": "code",
   "execution_count": 316,
   "metadata": {},
   "outputs": [
    {
     "name": "stderr",
     "output_type": "stream",
     "text": [
      "100%|████████████████████████████████████████████████████████████████████████████████████| 3/3 [01:03<00:00, 21.25s/it]\n"
     ]
    }
   ],
   "source": [
    "def remove_one_letter_words(text):\n",
    "    return re.sub(r'\\b\\w{1}\\b', '', text)\n",
    "\n",
    "colunas = ['Título', 'Texto', 'PP']\n",
    "for j in tqdm(colunas): \n",
    "    ## Retirando outras pontuações que ainda estavam no texto\n",
    "    base[f'{j}'] = base[f'{j}'].apply(lambda x: re.sub('[ºª°]', '', x))\n",
    "    ## Retirando palavras com uma letra\n",
    "    base[f'{j}'] = base[f'{j}'].apply(remove_one_letter_words)\n"
   ]
  },
  {
   "cell_type": "markdown",
   "metadata": {},
   "source": [
    "### Contagem de palavras após retirada de números e stopwords"
   ]
  },
  {
   "cell_type": "code",
   "execution_count": 341,
   "metadata": {},
   "outputs": [
    {
     "name": "stdout",
     "output_type": "stream",
     "text": [
      "Wall time: 15.7 s\n",
      "Compiler : 110 ms\n"
     ]
    }
   ],
   "source": [
    "%%time\n",
    "\n",
    "# criar uma nova coluna contendo o número de palavras em cada linha - Após retirada de números e stopwords\n",
    "base['num_palavras_título2'] = base['Título'].apply(lambda x: len(x.split()))\n",
    "\n",
    "base['num_palavras_texto2'] = base['Texto'].apply(lambda x: len(x.split()))\n",
    "\n",
    "base['num_palavras_pp2'] = base['PP'].apply(lambda x: len(x.split()))"
   ]
  },
  {
   "cell_type": "code",
   "execution_count": 342,
   "metadata": {},
   "outputs": [
    {
     "data": {
      "image/png": "[encoded data removed]",
      "text/plain": [
       "<Figure size 432x288 with 1 Axes>"
      ]
     },
     "metadata": {
      "needs_background": "light"
     },
     "output_type": "display_data"
    },
    {
     "data": {
      "image/png": "[encoded data removed]",
      "text/plain": [
       "<Figure size 432x288 with 1 Axes>"
      ]
     },
     "metadata": {
      "needs_background": "light"
     },
     "output_type": "display_data"
    },
    {
     "data": {
      "image/png": "[encoded data removed]",
      "text/plain": [
       "<Figure size 432x288 with 1 Axes>"
      ]
     },
     "metadata": {
      "needs_background": "light"
     },
     "output_type": "display_data"
    }
   ],
   "source": [
    "colunas = ['num_palavras_título2', 'num_palavras_pp2', 'num_palavras_texto2']\n",
    "for j in colunas:\n",
    "\n",
    "    plt.plot(base[f'{j}'])\n",
    "    mean = round(base[f'{j}'].mean(),2)\n",
    "    med = base[f'{j}'].median()\n",
    "    max = base[f'{j}'].max()\n",
    "    # adicionar a média e a mediana ao gráfico\n",
    "    plt.axhline(mean, color='red', linestyle='dashed', linewidth=2, label='Média')\n",
    "    plt.axhline(med, color='black', linestyle='dashed', linewidth=2, label='Mediana')\n",
    "    plt.title(f'{j}')\n",
    "    #plt.text(0.5, base[f'{j}'].mean(), ha='center', va='center', fontsize=12, color='white')\n",
    "    plt.annotate('Média = {}\\nMediana = {}'.format(mean,med), xy=(0.05, mean), xytext=(-40, 0),  textcoords=\"offset points\", ha=\"right\", va=\"center\")\n",
    "    plt.legend()\n",
    "    plt.show()"
   ]
  },
  {
   "cell_type": "code",
   "execution_count": 343,
   "metadata": {},
   "outputs": [
    {
     "data": {
      "text/html": [
       "<div>\n",
       "<style scoped>\n",
       "    .dataframe tbody tr th:only-of-type {\n",
       "        vertical-align: middle;\n",
       "    }\n",
       "\n",
       "    .dataframe tbody tr th {\n",
       "        vertical-align: top;\n",
       "    }\n",
       "\n",
       "    .dataframe thead th {\n",
       "        text-align: right;\n",
       "    }\n",
       "</style>\n",
       "<table border=\"1\" class=\"dataframe\">\n",
       "  <thead>\n",
       "    <tr style=\"text-align: right;\">\n",
       "      <th></th>\n",
       "      <th>Data</th>\n",
       "      <th>Título</th>\n",
       "      <th>Texto</th>\n",
       "      <th>PP</th>\n",
       "      <th>num_palavras_título</th>\n",
       "      <th>num_palavras_texto</th>\n",
       "      <th>num_palavras_pp</th>\n",
       "      <th>num_palavras_título2</th>\n",
       "      <th>num_palavras_texto2</th>\n",
       "      <th>num_palavras_pp2</th>\n",
       "      <th>texto</th>\n",
       "      <th>pp</th>\n",
       "    </tr>\n",
       "  </thead>\n",
       "  <tbody>\n",
       "    <tr>\n",
       "      <th>0</th>\n",
       "      <td>2011-07-25 10:20:00</td>\n",
       "      <td>focus mercado aponta estabilidade inflação</td>\n",
       "      <td>são_paulo mercado manteve projeção inflação me...</td>\n",
       "      <td>são_paulo mercado manteve projeção inflação me...</td>\n",
       "      <td>8</td>\n",
       "      <td>287</td>\n",
       "      <td>37</td>\n",
       "      <td>5</td>\n",
       "      <td>124</td>\n",
       "      <td>19</td>\n",
       "      <td>mercado manteve projeção inflação medida índic...</td>\n",
       "      <td>mercado manteve projeção inflação medida índic...</td>\n",
       "    </tr>\n",
       "    <tr>\n",
       "      <th>1</th>\n",
       "      <td>2011-07-25 10:30:00</td>\n",
       "      <td>bolsas europa caem dívida eua rating grécia pr...</td>\n",
       "      <td>são_paulo investidores bolsas europa mostram c...</td>\n",
       "      <td>são_paulo investidores bolsas europa mostram c...</td>\n",
       "      <td>12</td>\n",
       "      <td>189</td>\n",
       "      <td>183</td>\n",
       "      <td>8</td>\n",
       "      <td>79</td>\n",
       "      <td>75</td>\n",
       "      <td>investidores bolsas europa mostram cautelosos ...</td>\n",
       "      <td>investidores bolsas europa mostram cautelosos ...</td>\n",
       "    </tr>\n",
       "    <tr>\n",
       "      <th>2</th>\n",
       "      <td>2011-07-25 11:00:00</td>\n",
       "      <td>furnas trocou presidente</td>\n",
       "      <td>são_paulo símbolo mudanças presidente dilma ro...</td>\n",
       "      <td>são_paulo símbolo mudanças presidente dilma ro...</td>\n",
       "      <td>8</td>\n",
       "      <td>1073</td>\n",
       "      <td>184</td>\n",
       "      <td>3</td>\n",
       "      <td>543</td>\n",
       "      <td>95</td>\n",
       "      <td>símbolo mudanças presidente dilma rousseff pre...</td>\n",
       "      <td>símbolo mudanças presidente dilma rousseff pre...</td>\n",
       "    </tr>\n",
       "  </tbody>\n",
       "</table>\n",
       "</div>"
      ],
      "text/plain": [
       "                  Data                                             Título  \\\n",
       "0  2011-07-25 10:20:00         focus mercado aponta estabilidade inflação   \n",
       "1  2011-07-25 10:30:00  bolsas europa caem dívida eua rating grécia pr...   \n",
       "2  2011-07-25 11:00:00                           furnas trocou presidente   \n",
       "\n",
       "                                               Texto  \\\n",
       "0  são_paulo mercado manteve projeção inflação me...   \n",
       "1  são_paulo investidores bolsas europa mostram c...   \n",
       "2  são_paulo símbolo mudanças presidente dilma ro...   \n",
       "\n",
       "                                                  PP  num_palavras_título  \\\n",
       "0  são_paulo mercado manteve projeção inflação me...                    8   \n",
       "1  são_paulo investidores bolsas europa mostram c...                   12   \n",
       "2  são_paulo símbolo mudanças presidente dilma ro...                    8   \n",
       "\n",
       "   num_palavras_texto  num_palavras_pp  num_palavras_título2  \\\n",
       "0                 287               37                     5   \n",
       "1                 189              183                     8   \n",
       "2                1073              184                     3   \n",
       "\n",
       "   num_palavras_texto2  num_palavras_pp2  \\\n",
       "0                  124                19   \n",
       "1                   79                75   \n",
       "2                  543                95   \n",
       "\n",
       "                                               texto  \\\n",
       "0  mercado manteve projeção inflação medida índic...   \n",
       "1  investidores bolsas europa mostram cautelosos ...   \n",
       "2  símbolo mudanças presidente dilma rousseff pre...   \n",
       "\n",
       "                                                  pp  \n",
       "0  mercado manteve projeção inflação medida índic...  \n",
       "1  investidores bolsas europa mostram cautelosos ...  \n",
       "2  símbolo mudanças presidente dilma rousseff pre...  "
      ]
     },
     "execution_count": 343,
     "metadata": {},
     "output_type": "execute_result"
    }
   ],
   "source": [
    "base.head(3)"
   ]
  },
  {
   "cell_type": "markdown",
   "metadata": {},
   "source": [
    "## Passo 5 - Retirando Cidades\n",
    "\n",
    "No início das notícias, aparecem várias cidades como se fosse o \"local\" de publicação da notícia.\n",
    "\n",
    "\n",
    "### Exemplo:"
   ]
  },
  {
   "cell_type": "code",
   "execution_count": 348,
   "metadata": {},
   "outputs": [
    {
     "data": {
      "text/plain": [
       "'são_paulo símbolo mudanças presidente dilma rousseff pretendia eletrobras furnas estatal orçamento setor bilhões segue posse quase intacta queda braço pmdb dilma tirou presidente estatal carlos nadalutti apadrinhado deputado federal eduardo cunha rj vice líder partido câmara manteve intactas diretorias funcionário carreira estatal nadalutti demitido presidente flávio decat abrigou assessor gabinete expectativas mudança alimentadas carta divulgada janeiro funcionários furnas furnas passa maiores crises história teme futuro empregados preocupados futuro empresa apostam intervenção presidente dilma dizia manifesto prosseguia listando loteamento político estatal prejuízos erário decorrente avaliação interna decat autonomia trocar cúpula empresa superintendentes diretores companhia assumiu fevereiro'"
      ]
     },
     "execution_count": 348,
     "metadata": {},
     "output_type": "execute_result"
    }
   ],
   "source": [
    "base.iloc[2,3]"
   ]
  },
  {
   "cell_type": "code",
   "execution_count": 347,
   "metadata": {},
   "outputs": [
    {
     "data": {
      "text/html": [
       "<div>\n",
       "<style scoped>\n",
       "    .dataframe tbody tr th:only-of-type {\n",
       "        vertical-align: middle;\n",
       "    }\n",
       "\n",
       "    .dataframe tbody tr th {\n",
       "        vertical-align: top;\n",
       "    }\n",
       "\n",
       "    .dataframe thead th {\n",
       "        text-align: right;\n",
       "    }\n",
       "</style>\n",
       "<table border=\"1\" class=\"dataframe\">\n",
       "  <thead>\n",
       "    <tr style=\"text-align: right;\">\n",
       "      <th></th>\n",
       "      <th>0</th>\n",
       "      <th>1</th>\n",
       "      <th>2</th>\n",
       "      <th>3</th>\n",
       "    </tr>\n",
       "  </thead>\n",
       "  <tbody>\n",
       "    <tr>\n",
       "      <th>0</th>\n",
       "      <td>são_paulo</td>\n",
       "      <td>3845</td>\n",
       "      <td>55213</td>\n",
       "      <td>223691</td>\n",
       "    </tr>\n",
       "    <tr>\n",
       "      <th>1</th>\n",
       "      <td>rio_de_janeiro</td>\n",
       "      <td>302</td>\n",
       "      <td>10455</td>\n",
       "      <td>61366</td>\n",
       "    </tr>\n",
       "    <tr>\n",
       "      <th>2</th>\n",
       "      <td>brasília</td>\n",
       "      <td>997</td>\n",
       "      <td>13446</td>\n",
       "      <td>55805</td>\n",
       "    </tr>\n",
       "  </tbody>\n",
       "</table>\n",
       "</div>"
      ],
      "text/plain": [
       "                0     1      2       3\n",
       "0       são_paulo  3845  55213  223691\n",
       "1  rio_de_janeiro   302  10455   61366\n",
       "2        brasília   997  13446   55805"
      ]
     },
     "execution_count": 347,
     "metadata": {},
     "output_type": "execute_result"
    }
   ],
   "source": [
    "termos = ['são_paulo', 'rio_de_janeiro', 'brasília']\n",
    "lista = []\n",
    "\n",
    "for termo in termos:\n",
    "    x = base['Título'].str.count(f'{termo}').sum()\n",
    "    y = base['PP'].str.count(f'{termo}').sum()\n",
    "    z = base['Texto'].str.count(f'{termo}').sum()\n",
    "    lista.append([termo, x,y,z])\n",
    "    \n",
    "ob = pd.DataFrame(lista)\n",
    "ob"
   ]
  },
  {
   "cell_type": "markdown",
   "metadata": {},
   "source": [
    "Note que **são paulo** aparece **3.845** vezes no título, **55.213** vezes no primeiro parágrafo e **223.691** vezes nas notícias inteiras. Esse alto número pode ser ocasionado por esse tipo de situação, como visto no exemplo anterior em que o primeiro termo da notícia é **são paulo**."
   ]
  },
  {
   "cell_type": "code",
   "execution_count": 352,
   "metadata": {},
   "outputs": [
    {
     "data": {
      "text/plain": [
       "33025"
      ]
     },
     "execution_count": 352,
     "metadata": {},
     "output_type": "execute_result"
    }
   ],
   "source": [
    "base['pp'] = base['PP'].str.replace(r'^(são_paulo)\\s+', '', regex=True)\n",
    "base['pp'].str.count('são_paulo').sum()"
   ]
  },
  {
   "cell_type": "markdown",
   "metadata": {},
   "source": [
    "Foi retirado todos os termos **são paulo** que aparecem somente na primeira palavra do primeiro parágrafo ou texto. Se esse termo aparecer ao longo da notícia, esses outros vão continuar. O úncio que vai ser retirado é o que está na posição inicial. Houve uma redução de **22.000**. \n",
    "\n",
    "Portanto, vamos retirar as \"principais cidades\" que aparecem nessa posição inicial, como rio de janeiro, washigton, brasília,..."
   ]
  },
  {
   "cell_type": "code",
   "execution_count": 364,
   "metadata": {},
   "outputs": [],
   "source": [
    "base['pp'] = base['PP'].str.replace(r'^(são_paulo)\\s+', '', regex=True)"
   ]
  },
  {
   "cell_type": "code",
   "execution_count": 424,
   "metadata": {},
   "outputs": [
    {
     "name": "stderr",
     "output_type": "stream",
     "text": [
      "100%|██████████████████████████████████████████████████████████████████████████████████| 62/62 [17:59<00:00, 17.41s/it]"
     ]
    },
    {
     "name": "stdout",
     "output_type": "stream",
     "text": [
      "Wall time: 17min 59s\n",
      "Compiler : 454 ms\n"
     ]
    },
    {
     "name": "stderr",
     "output_type": "stream",
     "text": [
      "\n"
     ]
    }
   ],
   "source": [
    "%%time\n",
    "\n",
    "# capitais brasileiras e principais capitais financeiras do mundo \n",
    "termos = ['são_paulo', 'rio_de_janeiro', 'madri', 'santos', 'belo horizonte', 'genebra', 'washington', 'londres', 'york',\n",
    "         'bruxelas', 'frankfurt', 'brasília', 'paris', 'buenos aires', 'los angeles', 'ão paulo', 'salvador', 'recife',\n",
    "          'campinas', 'porto alegre', 'curitiba', 'recife', 'fortaleza', 'belém', 'manaus', 'goiânia', 'joão pessoa',\n",
    "         'aracaju', 'natal', 'florianópolis', 'campo grande', 'cuiabá', 'teresina', 'são luís', 'palmas', 'macapá', \n",
    "         'porto velho', 'rio branco', 'hong kong', 'tóquio', 'singapura', 'sydney', 'zurique', 'toronto','amsterdã',\n",
    "         'xangai', 'dubai', 'mumbai', 'pequim', 'seul', 'são francisco', 'chicago', 'boston', 'milão','luxemburgo',\n",
    "         'dublin', 'viena', 'copenhague', 'estocolmo', 'helsinque','manila', 'kuala lumpur']\n",
    "\n",
    "\n",
    "for termo in tqdm(termos):\n",
    "    base['pp'] = base['pp'].str.replace(rf'^({termo})\\s+', '', regex=True)\n",
    "    base['texto'] = base['texto'].str.replace(rf'^({termo})\\s+', '', regex=True)\n"
   ]
  },
  {
   "cell_type": "code",
   "execution_count": 425,
   "metadata": {},
   "outputs": [
    {
     "data": {
      "text/plain": [
       "0    mercado manteve projeção inflação medida índic...\n",
       "1    investidores bolsas europa mostram cautelosos ...\n",
       "2    símbolo mudanças presidente dilma rousseff pre...\n",
       "3    lupatech especializada produtos serviços setor...\n",
       "4    juiz kim heger determinou anders behring breiv...\n",
       "Name: pp, dtype: object"
      ]
     },
     "execution_count": 425,
     "metadata": {},
     "output_type": "execute_result"
    }
   ],
   "source": [
    "base['pp'].head()"
   ]
  },
  {
   "cell_type": "code",
   "execution_count": 426,
   "metadata": {},
   "outputs": [
    {
     "data": {
      "text/html": [
       "<div>\n",
       "<style scoped>\n",
       "    .dataframe tbody tr th:only-of-type {\n",
       "        vertical-align: middle;\n",
       "    }\n",
       "\n",
       "    .dataframe tbody tr th {\n",
       "        vertical-align: top;\n",
       "    }\n",
       "\n",
       "    .dataframe thead th {\n",
       "        text-align: right;\n",
       "    }\n",
       "</style>\n",
       "<table border=\"1\" class=\"dataframe\">\n",
       "  <thead>\n",
       "    <tr style=\"text-align: right;\">\n",
       "      <th></th>\n",
       "      <th>0</th>\n",
       "      <th>1</th>\n",
       "      <th>2</th>\n",
       "      <th>3</th>\n",
       "    </tr>\n",
       "  </thead>\n",
       "  <tbody>\n",
       "    <tr>\n",
       "      <th>0</th>\n",
       "      <td>são_paulo</td>\n",
       "      <td>3845</td>\n",
       "      <td>33009</td>\n",
       "      <td>201220</td>\n",
       "    </tr>\n",
       "    <tr>\n",
       "      <th>1</th>\n",
       "      <td>rio_de_janeiro</td>\n",
       "      <td>302</td>\n",
       "      <td>10350</td>\n",
       "      <td>61258</td>\n",
       "    </tr>\n",
       "    <tr>\n",
       "      <th>2</th>\n",
       "      <td>madri</td>\n",
       "      <td>148</td>\n",
       "      <td>631</td>\n",
       "      <td>6510</td>\n",
       "    </tr>\n",
       "    <tr>\n",
       "      <th>3</th>\n",
       "      <td>santos</td>\n",
       "      <td>1239</td>\n",
       "      <td>4395</td>\n",
       "      <td>37452</td>\n",
       "    </tr>\n",
       "    <tr>\n",
       "      <th>4</th>\n",
       "      <td>belo horizonte</td>\n",
       "      <td>216</td>\n",
       "      <td>1586</td>\n",
       "      <td>13978</td>\n",
       "    </tr>\n",
       "  </tbody>\n",
       "</table>\n",
       "</div>"
      ],
      "text/plain": [
       "                0     1      2       3\n",
       "0       são_paulo  3845  33009  201220\n",
       "1  rio_de_janeiro   302  10350   61258\n",
       "2           madri   148    631    6510\n",
       "3          santos  1239   4395   37452\n",
       "4  belo horizonte   216   1586   13978"
      ]
     },
     "execution_count": 426,
     "metadata": {},
     "output_type": "execute_result"
    }
   ],
   "source": [
    "termos = ['são_paulo', 'rio_de_janeiro', 'madri', 'santos', 'belo horizonte', 'genebra', 'washington', 'londres', 'york',\n",
    "         'bruxelas', 'frankfurt', 'brasília', 'paris', 'buenos aires', 'los angeles', 'ão paulo']\n",
    "\n",
    "lista = []\n",
    "\n",
    "for termo in termos:\n",
    "    x = base['Título'].str.count(f'{termo}').sum()\n",
    "    y = base['pp'].str.count(f'{termo}').sum()\n",
    "    z = base['texto'].str.count(f'{termo}').sum()\n",
    "    lista.append([termo, x,y,z])\n",
    "    \n",
    "ob2 = pd.DataFrame(lista)\n",
    "ob2.head()"
   ]
  },
  {
   "cell_type": "markdown",
   "metadata": {},
   "source": [
    "## Contagem de palavras após a retirada das principais cidades do início da notícia"
   ]
  },
  {
   "cell_type": "code",
   "execution_count": 427,
   "metadata": {},
   "outputs": [
    {
     "name": "stdout",
     "output_type": "stream",
     "text": [
      "Wall time: 16.3 s\n",
      "Compiler : 355 ms\n"
     ]
    }
   ],
   "source": [
    "%%time\n",
    "\n",
    "# criar uma nova coluna contendo o número de palavras em cada linha - Após retirada das cidades inciais\n",
    "base['num_palavras_título3'] = base['Título'].apply(lambda x: len(x.split()))\n",
    "\n",
    "base['num_palavras_texto3'] = base['texto'].apply(lambda x: len(x.split()))\n",
    "\n",
    "base['num_palavras_pp3'] = base['pp'].apply(lambda x: len(x.split()))"
   ]
  },
  {
   "cell_type": "code",
   "execution_count": 428,
   "metadata": {},
   "outputs": [
    {
     "data": {
      "image/png": "[encoded data removed]",
      "text/plain": [
       "<Figure size 432x288 with 1 Axes>"
      ]
     },
     "metadata": {
      "needs_background": "light"
     },
     "output_type": "display_data"
    },
    {
     "data": {
      "image/png": "[encoded data removed]",
      "text/plain": [
       "<Figure size 432x288 with 1 Axes>"
      ]
     },
     "metadata": {
      "needs_background": "light"
     },
     "output_type": "display_data"
    },
    {
     "data": {
      "image/png": "[encoded data removed]",
      "text/plain": [
       "<Figure size 432x288 with 1 Axes>"
      ]
     },
     "metadata": {
      "needs_background": "light"
     },
     "output_type": "display_data"
    }
   ],
   "source": [
    "colunas = ['num_palavras_título3', 'num_palavras_pp3', 'num_palavras_texto3']\n",
    "for j in colunas:\n",
    "\n",
    "    plt.plot(base[f'{j}'])\n",
    "    mean = round(base[f'{j}'].mean(),2)\n",
    "    med = base[f'{j}'].median()\n",
    "    max = base[f'{j}'].max()\n",
    "    # adicionar a média e a mediana ao gráfico\n",
    "    plt.axhline(mean, color='red', linestyle='dashed', linewidth=2, label='Média')\n",
    "    plt.axhline(med, color='black', linestyle='dashed', linewidth=2, label='Mediana')\n",
    "    plt.title(f'{j}')\n",
    "    #plt.text(0.5, base[f'{j}'].mean(), ha='center', va='center', fontsize=12, color='white')\n",
    "    plt.annotate('Média = {}\\nMediana = {}'.format(mean,med), xy=(0.05, mean), xytext=(-40, 0),  textcoords=\"offset points\", ha=\"right\", va=\"center\")\n",
    "    plt.legend()\n",
    "    plt.show()"
   ]
  },
  {
   "cell_type": "markdown",
   "metadata": {},
   "source": [
    "## Título + Primeiro Parágrafo? Quantas palavras do primeiro parágrafo?"
   ]
  },
  {
   "cell_type": "code",
   "execution_count": 442,
   "metadata": {},
   "outputs": [
    {
     "data": {
      "text/plain": [
       "678616"
      ]
     },
     "execution_count": 442,
     "metadata": {},
     "output_type": "execute_result"
    }
   ],
   "source": [
    "# Número total de notícias\n",
    "len(base['num_palavras_pp3'])"
   ]
  },
  {
   "cell_type": "markdown",
   "metadata": {},
   "source": [
    "### 5% - 33.930 notícias\n",
    "\n",
    "95% das notícias possuem menos do que 45 palavras"
   ]
  },
  {
   "cell_type": "code",
   "execution_count": 502,
   "metadata": {},
   "outputs": [
    {
     "data": {
      "text/plain": [
       "587490    45\n",
       "588015    45\n",
       "588407    45\n",
       "588509    45\n",
       "589422    45\n",
       "Name: num_palavras_pp3, dtype: int64"
      ]
     },
     "execution_count": 502,
     "metadata": {},
     "output_type": "execute_result"
    }
   ],
   "source": [
    "# Pegando a quantidade de palavras que possui no primeiro parágrafo. \n",
    "# 45 é o menor número de palavras que as 33930 (5% das notícias totais) possuem \n",
    "base['num_palavras_pp3'].nlargest(33930).tail()"
   ]
  },
  {
   "cell_type": "markdown",
   "metadata": {},
   "source": [
    "### 10% - 67.862 notícias\n",
    "90% das notícias possuem menos do que 38 palavras"
   ]
  },
  {
   "cell_type": "code",
   "execution_count": 522,
   "metadata": {},
   "outputs": [
    {
     "data": {
      "text/plain": [
       "109896    38\n",
       "109952    38\n",
       "110056    38\n",
       "110228    38\n",
       "110466    38\n",
       "Name: num_palavras_pp3, dtype: int64"
      ]
     },
     "execution_count": 522,
     "metadata": {},
     "output_type": "execute_result"
    }
   ],
   "source": [
    "base['num_palavras_pp3'].nlargest(67862).tail()"
   ]
  },
  {
   "cell_type": "markdown",
   "metadata": {},
   "source": [
    "### 15% - 101.793 notícias\n",
    "85% das notícias possuem menos do que 35 palavras"
   ]
  },
  {
   "cell_type": "code",
   "execution_count": 536,
   "metadata": {},
   "outputs": [
    {
     "data": {
      "text/plain": [
       "530140    35\n",
       "530158    35\n",
       "530183    35\n",
       "530210    35\n",
       "530224    35\n",
       "Name: num_palavras_pp3, dtype: int64"
      ]
     },
     "execution_count": 536,
     "metadata": {},
     "output_type": "execute_result"
    }
   ],
   "source": [
    "base['num_palavras_pp3'].nlargest(101793).tail()"
   ]
  },
  {
   "cell_type": "markdown",
   "metadata": {},
   "source": [
    "### 20% - 135.724 notícias\n",
    "80% das notícias possuem menos do que 32 palavras\n",
    "\n",
    "45% das notícias possuem menos do que 21 palavras"
   ]
  },
  {
   "cell_type": "code",
   "execution_count": 552,
   "metadata": {},
   "outputs": [
    {
     "data": {
      "text/plain": [
       "317772    32\n",
       "317776    32\n",
       "318031    32\n",
       "318058    32\n",
       "318151    32\n",
       "Name: num_palavras_pp3, dtype: int64"
      ]
     },
     "execution_count": 552,
     "metadata": {},
     "output_type": "execute_result"
    }
   ],
   "source": [
    "base['num_palavras_pp3'].nlargest(135724).tail()"
   ]
  },
  {
   "cell_type": "markdown",
   "metadata": {},
   "source": [
    "# BASE"
   ]
  },
  {
   "cell_type": "markdown",
   "metadata": {},
   "source": [
    "Vamos selecionar as 40 primeiras palavras de cada primeiro parágrafo da notícia"
   ]
  },
  {
   "cell_type": "code",
   "execution_count": 597,
   "metadata": {},
   "outputs": [],
   "source": [
    "# Selecionar as 40 primeiras palavras de cada notícias\n",
    "base['primeiras_palavras'] = base['pp'].str.split().str[:40].str.join(' ')"
   ]
  },
  {
   "cell_type": "code",
   "execution_count": 605,
   "metadata": {},
   "outputs": [],
   "source": [
    "# Concatenar duas colunas \n",
    "base = base.assign(merge=base['Título'].str.cat(base['primeiras_palavras'], sep=' '))  "
   ]
  },
  {
   "cell_type": "code",
   "execution_count": 617,
   "metadata": {},
   "outputs": [],
   "source": [
    "base.to_csv('Análise_Número_Palavras_Completa.csv', index=False)"
   ]
  },
  {
   "cell_type": "code",
   "execution_count": 618,
   "metadata": {},
   "outputs": [],
   "source": [
    "base_final = base.loc[:, ['Data', 'merge']]"
   ]
  },
  {
   "cell_type": "code",
   "execution_count": 619,
   "metadata": {},
   "outputs": [
    {
     "data": {
      "text/html": [
       "<div>\n",
       "<style scoped>\n",
       "    .dataframe tbody tr th:only-of-type {\n",
       "        vertical-align: middle;\n",
       "    }\n",
       "\n",
       "    .dataframe tbody tr th {\n",
       "        vertical-align: top;\n",
       "    }\n",
       "\n",
       "    .dataframe thead th {\n",
       "        text-align: right;\n",
       "    }\n",
       "</style>\n",
       "<table border=\"1\" class=\"dataframe\">\n",
       "  <thead>\n",
       "    <tr style=\"text-align: right;\">\n",
       "      <th></th>\n",
       "      <th>Data</th>\n",
       "      <th>merge</th>\n",
       "    </tr>\n",
       "  </thead>\n",
       "  <tbody>\n",
       "    <tr>\n",
       "      <th>0</th>\n",
       "      <td>2011-07-25 10:20:00</td>\n",
       "      <td>focus mercado aponta estabilidade inflação mer...</td>\n",
       "    </tr>\n",
       "    <tr>\n",
       "      <th>1</th>\n",
       "      <td>2011-07-25 10:30:00</td>\n",
       "      <td>bolsas europa caem dívida eua rating grécia pr...</td>\n",
       "    </tr>\n",
       "    <tr>\n",
       "      <th>2</th>\n",
       "      <td>2011-07-25 11:00:00</td>\n",
       "      <td>furnas trocou presidente símbolo mudanças pres...</td>\n",
       "    </tr>\n",
       "    <tr>\n",
       "      <th>3</th>\n",
       "      <td>2011-07-25 11:10:00</td>\n",
       "      <td>lupatech fecha contratos plataformas produção ...</td>\n",
       "    </tr>\n",
       "    <tr>\n",
       "      <th>4</th>\n",
       "      <td>2011-07-25 14:04:00</td>\n",
       "      <td>homem confessou massacre noruega ficará detido...</td>\n",
       "    </tr>\n",
       "  </tbody>\n",
       "</table>\n",
       "</div>"
      ],
      "text/plain": [
       "                  Data                                              merge\n",
       "0  2011-07-25 10:20:00  focus mercado aponta estabilidade inflação mer...\n",
       "1  2011-07-25 10:30:00  bolsas europa caem dívida eua rating grécia pr...\n",
       "2  2011-07-25 11:00:00  furnas trocou presidente símbolo mudanças pres...\n",
       "3  2011-07-25 11:10:00  lupatech fecha contratos plataformas produção ...\n",
       "4  2011-07-25 14:04:00  homem confessou massacre noruega ficará detido..."
      ]
     },
     "execution_count": 619,
     "metadata": {},
     "output_type": "execute_result"
    }
   ],
   "source": [
    "base_final.head()"
   ]
  },
  {
   "cell_type": "code",
   "execution_count": 620,
   "metadata": {},
   "outputs": [],
   "source": [
    "base_final.to_csv('Base_Final_PP.csv', index=False)"
   ]
  },
  {
   "cell_type": "markdown",
   "metadata": {},
   "source": [
    "Utilizando todas as palavras do primeiro parágrafo"
   ]
  },
  {
   "cell_type": "code",
   "execution_count": 621,
   "metadata": {},
   "outputs": [],
   "source": [
    "# Concatenar duas colunas \n",
    "base = base.assign(total=base['Título'].str.cat(base['pp'], sep=' '))  "
   ]
  },
  {
   "cell_type": "code",
   "execution_count": 622,
   "metadata": {},
   "outputs": [],
   "source": [
    "base_final_total = base.loc[:, ['Data', 'total']]"
   ]
  },
  {
   "cell_type": "code",
   "execution_count": 623,
   "metadata": {},
   "outputs": [],
   "source": [
    "base_final_total.to_csv('Base_Final_PP.csv', index=False)"
   ]
  },
  {
   "cell_type": "markdown",
   "metadata": {},
   "source": [
    "## Trainamento - Dados até 31/12/2020"
   ]
  },
  {
   "cell_type": "code",
   "execution_count": 632,
   "metadata": {},
   "outputs": [
    {
     "data": {
      "text/plain": [
       "542248"
      ]
     },
     "execution_count": 632,
     "metadata": {},
     "output_type": "execute_result"
    }
   ],
   "source": [
    "len(base[~(base['Data'] > '2020-31-12')])"
   ]
  },
  {
   "cell_type": "code",
   "execution_count": 633,
   "metadata": {},
   "outputs": [
    {
     "data": {
      "text/plain": [
       "678616"
      ]
     },
     "execution_count": 633,
     "metadata": {},
     "output_type": "execute_result"
    }
   ],
   "source": [
    "len(base['Data'])"
   ]
  },
  {
   "cell_type": "code",
   "execution_count": 634,
   "metadata": {},
   "outputs": [
    {
     "data": {
      "text/plain": [
       "79.90498308321644"
      ]
     },
     "execution_count": 634,
     "metadata": {},
     "output_type": "execute_result"
    }
   ],
   "source": [
    "# Utilizando 80% da base como treinamento\n",
    "(542248/678616)*100"
   ]
  }
 ],
 "metadata": {
  "kernelspec": {
   "display_name": "Python 3 (ipykernel)",
   "language": "python",
   "name": "python3"
  },
  "language_info": {
   "codemirror_mode": {
    "name": "ipython",
    "version": 3
   },
   "file_extension": ".py",
   "mimetype": "text/x-python",
   "name": "python",
   "nbconvert_exporter": "python",
   "pygments_lexer": "ipython3",
   "version": "3.7.13"
  }
 },
 "nbformat": 4,
 "nbformat_minor": 2
}
